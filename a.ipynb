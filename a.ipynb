{
 "cells": [
  {
   "cell_type": "code",
   "execution_count": 43,
   "metadata": {},
   "outputs": [],
   "source": [
    "class token:\n",
    "    def __init__(self):\n",
    "        self.word = [\"<bos>\" , \"<eos>\" , \"<pad>\" , \"<unk>\"]\n",
    "        wor = open(\"pars_words.txt\" , \"r\" , encoding = \"utf-8\")\n",
    "        lines = wor.readlines()\n",
    "        for i in range(len(lines)):lines[i] = lines[i].rstrip()\n",
    "        for i in lines:\n",
    "            temp = i\n",
    "            if \"‌\" in temp: temp.replace(\"‌\" , \" \")\n",
    "            self.word.append(temp)\n",
    "        wor.close()\n",
    "        self.indexs = {a:b for b,a in enumerate(self.word)}\n",
    "    \n",
    "    def str_2_ten(self,xt:str):\n",
    "        xt += \" \"\n",
    "        sen = list()\n",
    "        temp = \"\"\n",
    "        for i in xt:\n",
    "            if i != \" \": temp+= i\n",
    "            else:\n",
    "                sen.append(temp)\n",
    "                temp = \"\"\n",
    "        ten = list()\n",
    "        for i in sen:\n",
    "            if i in self.word: ten.append(self.indexs[i])\n",
    "            else: ten.append(self.indexs[\"<unk>\"])\n",
    "        return ten\n",
    "\n",
    "    def ten_2_str(self , x):\n",
    "        def di(x):\n",
    "            b = {}\n",
    "            for i in x: b[x[i]] = i\n",
    "            return b\n",
    "        word = di(self.indexs)\n",
    "        sen = \"\"\n",
    "        for i in x:\n",
    "            sen += word[i]\n",
    "            sen += \" \"\n",
    "        return sen\n",
    "\n",
    "    "
   ]
  },
  {
   "cell_type": "code",
   "execution_count": 44,
   "metadata": {},
   "outputs": [],
   "source": [
    "def di(x):\n",
    "        b = {}\n",
    "        for i in x: b[x[i]] = i\n",
    "        return b\n"
   ]
  },
  {
   "cell_type": "code",
   "execution_count": 47,
   "metadata": {},
   "outputs": [
    {
     "name": "stdout",
     "output_type": "stream",
     "text": [
      "[17573, 12020, 2036, 18656, 19900]\n"
     ]
    }
   ],
   "source": [
    "tok = token()\n",
    "v = tok.str_2_ten(\"من عرفان برات نژاد هستم\")\n",
    "print(v)"
   ]
  },
  {
   "cell_type": "code",
   "execution_count": 48,
   "metadata": {},
   "outputs": [
    {
     "data": {
      "text/plain": [
       "'من عرفان برات نژاد هستم '"
      ]
     },
     "execution_count": 48,
     "metadata": {},
     "output_type": "execute_result"
    }
   ],
   "source": [
    "tok.ten_2_str(v)"
   ]
  }
 ],
 "metadata": {
  "kernelspec": {
   "display_name": "Python 3",
   "language": "python",
   "name": "python3"
  },
  "language_info": {
   "codemirror_mode": {
    "name": "ipython",
    "version": 3
   },
   "file_extension": ".py",
   "mimetype": "text/x-python",
   "name": "python",
   "nbconvert_exporter": "python",
   "pygments_lexer": "ipython3",
   "version": "3.11.5"
  }
 },
 "nbformat": 4,
 "nbformat_minor": 2
}
